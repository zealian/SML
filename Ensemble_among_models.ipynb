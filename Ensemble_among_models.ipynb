{
 "cells": [
  {
   "cell_type": "code",
   "execution_count": 1,
   "metadata": {
    "collapsed": true
   },
   "outputs": [],
   "source": [
    "import numpy as np"
   ]
  },
  {
   "cell_type": "code",
   "execution_count": 2,
   "metadata": {
    "collapsed": false
   },
   "outputs": [],
   "source": [
    "# KNN\n",
    "d1 = np.genfromtxt(\"C:/Users/Think/Desktop/final/KNN_weighted.csv\",delimiter=',')"
   ]
  },
  {
   "cell_type": "code",
   "execution_count": 3,
   "metadata": {
    "collapsed": true
   },
   "outputs": [],
   "source": [
    "# Random Forest\n",
    "d2 = np.genfromtxt(\"C:/Users/Think/Desktop/final/Random_Forest.csv\",delimiter=',')"
   ]
  },
  {
   "cell_type": "code",
   "execution_count": 4,
   "metadata": {
    "collapsed": true
   },
   "outputs": [],
   "source": [
    "# CNN_ensemble\n",
    "d3 = np.genfromtxt(\"C:/Users/Think/Desktop/final/CNN.csv\",delimiter=',')"
   ]
  },
  {
   "cell_type": "code",
   "execution_count": 5,
   "metadata": {
    "collapsed": false
   },
   "outputs": [],
   "source": [
    "label_matrix = np.zeros((d1.shape[0],98))"
   ]
  },
  {
   "cell_type": "code",
   "execution_count": 6,
   "metadata": {
    "collapsed": true
   },
   "outputs": [],
   "source": [
    "# turn label in to a label matrix with size 98\n",
    "result1 = d1[:,1:]\n",
    "for i in range(result1.shape[0]):\n",
    "    label_matrix[i][int(result1[i])] += 1"
   ]
  },
  {
   "cell_type": "code",
   "execution_count": 7,
   "metadata": {
    "collapsed": true
   },
   "outputs": [],
   "source": [
    "result2 = d2[:,1:]\n",
    "for i in range(result2.shape[0]):\n",
    "    label_matrix[i][int(result2[i])] += 1"
   ]
  },
  {
   "cell_type": "code",
   "execution_count": 8,
   "metadata": {
    "collapsed": true
   },
   "outputs": [],
   "source": [
    "result3 = d3[:,1:]\n",
    "for i in range(result3.shape[0]):\n",
    "    label_matrix[i][int(result3[i])] += 1"
   ]
  },
  {
   "cell_type": "code",
   "execution_count": 9,
   "metadata": {
    "collapsed": false
   },
   "outputs": [
    {
     "name": "stdout",
     "output_type": "stream",
     "text": [
      "417\n",
      "7284\n",
      "1014\n"
     ]
    }
   ],
   "source": [
    "# count_diff = 0\n",
    "# count_same = 0\n",
    "# count_comb = 0\n",
    "# voting\n",
    "for i in range(label_matrix.shape[0]):\n",
    "    list = label_matrix[i,:]\n",
    "    winner = np.argwhere(list == np.amax(list)) # get all winners\n",
    "    \n",
    "    if(winner.shape[0] != 1): # if has different opinion\n",
    "        label_matrix[i][int(result1[i])] += 3\n",
    "        count_diff += 1\n",
    "#     else:\n",
    "#         if(label_matrix[i,winner[0]]==3):\n",
    "#             count_same+=1\n",
    "#         else:\n",
    "#             count_comb+=1\n",
    "        \n",
    "# print count_diff\n",
    "# print count_same\n",
    "# print count_comb"
   ]
  },
  {
   "cell_type": "code",
   "execution_count": 10,
   "metadata": {
    "collapsed": false
   },
   "outputs": [],
   "source": [
    "result = np.argmax(label_matrix,axis=1).reshape((label_matrix.shape[0],1))\n",
    "output = np.zeros((d1.shape[0],2))\n",
    "output[:,0:1] = d1[:,0:1]\n",
    "output[:,1:] = result\n",
    "np.savetxt(\"C:/Users/Think/Desktop/final/result_3ensemble_2.csv\",output,fmt='%d',delimiter=\",\",header='Id,Character')"
   ]
  }
 ],
 "metadata": {
  "kernelspec": {
   "display_name": "Python [Root]",
   "language": "python",
   "name": "Python [Root]"
  },
  "language_info": {
   "codemirror_mode": {
    "name": "ipython",
    "version": 2
   },
   "file_extension": ".py",
   "mimetype": "text/x-python",
   "name": "python",
   "nbconvert_exporter": "python",
   "pygments_lexer": "ipython2",
   "version": "2.7.12"
  }
 },
 "nbformat": 4,
 "nbformat_minor": 0
}
