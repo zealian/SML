{
 "cells": [
  {
   "cell_type": "code",
   "execution_count": 1,
   "metadata": {
    "collapsed": true
   },
   "outputs": [],
   "source": [
    "# This file is used to reduce noise of given data\n",
    "import numpy as np\n",
    "from matplotlib.pyplot import imshow\n",
    "import copy\n",
    "%matplotlib inline"
   ]
  },
  {
   "cell_type": "code",
   "execution_count": 2,
   "metadata": {
    "collapsed": false
   },
   "outputs": [],
   "source": [
    "# load data\n",
    "test = np.genfromtxt(\"C:/Users/Think/Desktop/test/train1.csv\",delimiter=',')"
   ]
  },
  {
   "cell_type": "code",
   "execution_count": 3,
   "metadata": {
    "collapsed": false
   },
   "outputs": [],
   "source": [
    "# select the features and labels of given data\n",
    "def data_process(d, input_size = 429, class_size = 98):\n",
    "    size = d.shape[0]\n",
    "    example = d[:,9:]\n",
    "    label = d[:, 1:2]\n",
    "    label_matrix = np.zeros((size,class_size))\n",
    "    for i in range(size):\n",
    "        label_matrix[i][int(label[i])] = 1\n",
    "    return example, label_matrix"
   ]
  },
  {
   "cell_type": "code",
   "execution_count": 4,
   "metadata": {
    "collapsed": false
   },
   "outputs": [],
   "source": [
    "t = copy.deepcopy(test)\n",
    "example, label = data_process(t)"
   ]
  },
  {
   "cell_type": "code",
   "execution_count": 5,
   "metadata": {
    "collapsed": false
   },
   "outputs": [
    {
     "data": {
      "text/plain": [
       "<matplotlib.image.AxesImage at 0xaa46908>"
      ]
     },
     "execution_count": 5,
     "metadata": {},
     "output_type": "execute_result"
    },
    {
     "data": {
      "image/png": "[encoded data removed]",
      "text/plain": [
       "<matplotlib.figure.Figure at 0x6a479b0>"
      ]
     },
     "metadata": {},
     "output_type": "display_data"
    }
   ],
   "source": [
    "# show a image\n",
    "i = 16\n",
    "image = np.asarray(example[i:i+1].reshape([33,13]))\n",
    "imshow(image,cmap='Greys_r')"
   ]
  },
  {
   "cell_type": "code",
   "execution_count": 6,
   "metadata": {
    "collapsed": true
   },
   "outputs": [],
   "source": [
    "# get the pixel value of a point in a matrix\n",
    "def getPixel(image,x,y,G,N):  \n",
    "    L = image[x,y]\n",
    "    if L > G:  \n",
    "        L = True  \n",
    "    else:  \n",
    "        L = False  \n",
    "  \n",
    "    nearDots = 0  \n",
    "    if L == (image[x - 1,y - 1] > G):  \n",
    "        nearDots += 1  \n",
    "    if L == (image[x - 1,y] > G):  \n",
    "        nearDots += 1  \n",
    "    if L == (image[x - 1,y + 1] > G):  \n",
    "        nearDots += 1  \n",
    "    if L == (image[x,y - 1] > G):  \n",
    "        nearDots += 1  \n",
    "    if L == (image[x,y + 1] > G):  \n",
    "        nearDots += 1  \n",
    "    if L == (image[x + 1,y - 1] > G):  \n",
    "        nearDots += 1  \n",
    "    if L == (image[x + 1,y] > G):  \n",
    "        nearDots += 1  \n",
    "    if L == (image[x + 1,y + 1] > G):  \n",
    "        nearDots += 1  \n",
    "  \n",
    "    if nearDots < N:  \n",
    "        return 0\n",
    "    else:  \n",
    "        return None  "
   ]
  },
  {
   "cell_type": "code",
   "execution_count": 7,
   "metadata": {
    "collapsed": false
   },
   "outputs": [],
   "source": [
    "def clearNoise(image,G,N,Z,T):\n",
    "       \n",
    "    for i in xrange(0,Z):  \n",
    "        for x in xrange(1,image.shape[0] - 1):  \n",
    "            for y in xrange(1,image.shape[1] - 1):\n",
    "                color = getPixel(image,x,y,G,N)\n",
    "                if(color == 0):\n",
    "                    image[x,y] = 255\n",
    "                if(image[x,y] >= T):\n",
    "                    image[x,y] = 255"
   ]
  },
  {
   "cell_type": "code",
   "execution_count": 8,
   "metadata": {
    "collapsed": true
   },
   "outputs": [],
   "source": [
    "# # turn multivalue to two values\n",
    "# def monochrome(image):\n",
    "#     for i in range(image.shape[0]):\n",
    "#         for j in range(image.shape[1]):\n",
    "#             if(image[i,j] >= 128):\n",
    "#                 image[i,j] = 255\n",
    "#             else:\n",
    "#                 image[i,j] = 0"
   ]
  },
  {
   "cell_type": "code",
   "execution_count": 9,
   "metadata": {
    "collapsed": true
   },
   "outputs": [],
   "source": [
    "# remove the bound of given image\n",
    "def removebound(image):\n",
    "    image[0:1,:] = 255\n",
    "    image[-1:,:] = 255\n",
    "    image[:,0:1] = 255\n",
    "    image[:,-1:] = 255"
   ]
  },
  {
   "cell_type": "code",
   "execution_count": 10,
   "metadata": {
    "collapsed": false
   },
   "outputs": [],
   "source": [
    "# process all data\n",
    "example = 255-example # reverse the color of background and character\n",
    "size = example.shape[0]\n",
    "for i in range(size):\n",
    "    image = np.asarray(example[i:i+1].reshape([33,13]))\n",
    "    removebound(image)\n",
    "    clearNoise(image,220,4,4,220)\n",
    "example = 255-example"
   ]
  },
  {
   "cell_type": "code",
   "execution_count": 11,
   "metadata": {
    "collapsed": false
   },
   "outputs": [
    {
     "data": {
      "text/plain": [
       "<matplotlib.image.AxesImage at 0x69aaac8>"
      ]
     },
     "execution_count": 11,
     "metadata": {},
     "output_type": "execute_result"
    },
    {
     "data": {
      "image/png": "[encoded data removed]",
      "text/plain": [
       "<matplotlib.figure.Figure at 0xaa46dd8>"
      ]
     },
     "metadata": {},
     "output_type": "display_data"
    }
   ],
   "source": [
    "# show the result\n",
    "i = 16\n",
    "image = np.asarray(example[i:i+1].reshape([33,13]))\n",
    "imshow(image,cmap='Greys_r')"
   ]
  },
  {
   "cell_type": "code",
   "execution_count": 12,
   "metadata": {
    "collapsed": true
   },
   "outputs": [],
   "source": [
    "# output processes data into a csv files\n",
    "output = np.zeros((test.shape[0],test.shape[1]))\n",
    "output[:,0:9] = test[:,0:9]\n",
    "output[:,9:] = example\n",
    "np.savetxt(\"C:/Users/Think/Desktop/tttttttttttttttttttt.csv\",output,fmt='%d',delimiter=\",\")"
   ]
  }
 ],
 "metadata": {
  "anaconda-cloud": {},
  "kernelspec": {
   "display_name": "Python [Root]",
   "language": "python",
   "name": "Python [Root]"
  },
  "language_info": {
   "codemirror_mode": {
    "name": "ipython",
    "version": 2
   },
   "file_extension": ".py",
   "mimetype": "text/x-python",
   "name": "python",
   "nbconvert_exporter": "python",
   "pygments_lexer": "ipython2",
   "version": "2.7.12"
  }
 },
 "nbformat": 4,
 "nbformat_minor": 0
}
